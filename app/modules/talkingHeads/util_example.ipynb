{
 "cells": [
  {
   "cell_type": "code",
   "execution_count": 3,
   "metadata": {},
   "outputs": [],
   "source": [
    "import cv2\n",
    "import pickle as pkl\n",
    "import imageio\n",
    "import numpy as np\n",
    "import matplotlib.pyplot as plt\n",
    "\n",
    "import torchvision.transforms.functional as TF\n",
    "from face_alignment import FaceAlignment, LandmarksType\n",
    "\n",
    "from utils import load_model, generate_image, plot_landmarks, generate_lm, image_to_video, generate_moving_video\n",
    "import network\n",
    "\n",
    "%load_ext autoreload\n",
    "%autoreload 2"
   ]
  },
  {
   "cell_type": "code",
   "execution_count": 4,
   "metadata": {},
   "outputs": [],
   "source": [
    "G = network.Generator()\n",
    "G = load_model(G, \"./resource/han\", \"han\")\n",
    "G = G.to(\"cpu\")"
   ]
  },
  {
   "cell_type": "code",
   "execution_count": 5,
   "metadata": {},
   "outputs": [],
   "source": [
    "# image_path = \"./resource/image.png\"\n",
    "# fa = FaceAlignment(LandmarksType._2D, device='cuda:0')\n",
    "\n",
    "# finetune_img = cv2.imread(image_path)[:,:,::-1]\n",
    "# finetune_img = cv2.resize(finetune_img,(256,256))\n",
    "\n",
    "# finetune_lm = generate_lm(finetune_img , fa)\n",
    "# plt.imshow(finetune_lm)"
   ]
  },
  {
   "cell_type": "code",
   "execution_count": 5,
   "metadata": {},
   "outputs": [],
   "source": [
    "# l = TF.to_tensor(finetune_lm)\n",
    "# l = l.reshape(1, *l.shape)\n",
    "# l = l.to(\"cuda:0\")\n",
    "    \n",
    "# sw = generate_image(G, l, \"./resource/sw.npy\", \"cuda:0\")\n",
    "# plt.imshow(sw[0])"
   ]
  },
  {
   "cell_type": "code",
   "execution_count": 7,
   "metadata": {},
   "outputs": [],
   "source": [
    "generate_moving_video(G, \"./resource/demo.mov\", \"./resource/han/han.npy\", \"test.mp4\", \"cpu\")"
   ]
  },
  {
   "cell_type": "code",
   "execution_count": null,
   "metadata": {},
   "outputs": [],
   "source": []
  },
  {
   "cell_type": "code",
   "execution_count": null,
   "metadata": {},
   "outputs": [],
   "source": []
  }
 ],
 "metadata": {
  "kernelspec": {
   "display_name": "Python 3",
   "language": "python",
   "name": "python3"
  },
  "language_info": {
   "codemirror_mode": {
    "name": "ipython",
    "version": 3
   },
   "file_extension": ".py",
   "mimetype": "text/x-python",
   "name": "python",
   "nbconvert_exporter": "python",
   "pygments_lexer": "ipython3",
   "version": "3.7.4"
  }
 },
 "nbformat": 4,
 "nbformat_minor": 4
}
